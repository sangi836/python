{
 "cells": [
  {
   "cell_type": "code",
   "execution_count": 36,
   "id": "2e02300f-607f-45df-9c87-04b6c5ba86ab",
   "metadata": {},
   "outputs": [
    {
     "name": "stdout",
     "output_type": "stream",
     "text": [
      "<function read_excel at 0x000002168853BD80>\n"
     ]
    }
   ],
   "source": [
    "import pandas as pd\n",
    "file_path = 'desktop/python/p2/excel_report.xlsx'\n",
    "#display the dataframe\n",
    "df= pd.read_excel\n",
    "print(df)\n"
   ]
  },
  {
   "cell_type": "code",
   "execution_count": 38,
   "id": "abbfb774-8ae5-4499-86bc-abdd4c4a0079",
   "metadata": {},
   "outputs": [
    {
     "name": "stdout",
     "output_type": "stream",
     "text": [
      "<function read_excel at 0x000002168853BD80>\n"
     ]
    }
   ],
   "source": [
    "import pandas as pd \n",
    "file_path = 'desktop/python/p2/neural_data.xlsx'\n",
    "#display the dataframe\n",
    "df = pd.read_excel\n",
    "print(df)"
   ]
  },
  {
   "cell_type": "code",
   "execution_count": 40,
   "id": "eb9994ec-4c0a-4389-bfd9-df7aa619ed57",
   "metadata": {},
   "outputs": [
    {
     "name": "stdout",
     "output_type": "stream",
     "text": [
      "<function read_excel at 0x000002168853BD80>\n"
     ]
    }
   ],
   "source": [
    "import pandas as pd\n",
    "file_path = 'desktop/python/p2/nested_data.xlsv'\n",
    "#display the dataframe\n",
    "df = pd.read_excel\n",
    "print(df)"
   ]
  },
  {
   "cell_type": "code",
   "execution_count": 42,
   "id": "e48f8f18-7b63-4ab9-85f0-5301ded92812",
   "metadata": {},
   "outputs": [
    {
     "name": "stdout",
     "output_type": "stream",
     "text": [
      "<function read_excel at 0x000002168853BD80>\n"
     ]
    }
   ],
   "source": [
    "import pandas as pd\n",
    "file_path = 'desktop/python/p2/network_data.xlsv'\n",
    "#display the dataframe\n",
    "df = pd.read_excel\n",
    "print(df)"
   ]
  },
  {
   "cell_type": "code",
   "execution_count": 44,
   "id": "d2a5daf4-9eee-4ed6-970a-34c7ca646f2e",
   "metadata": {},
   "outputs": [
    {
     "ename": "SyntaxError",
     "evalue": "invalid syntax (3528947460.py, line 2)",
     "output_type": "error",
     "traceback": [
      "\u001b[1;36m  Cell \u001b[1;32mIn[44], line 2\u001b[1;36m\u001b[0m\n\u001b[1;33m    def read_excel_file(desktop/python/p2/excel_data):\u001b[0m\n\u001b[1;37m                               ^\u001b[0m\n\u001b[1;31mSyntaxError\u001b[0m\u001b[1;31m:\u001b[0m invalid syntax\n"
     ]
    }
   ],
   "source": [
    "import pandas as pd\n",
    "def read_excel_file(desktop/python/p2/excel_data):\n",
    "\"\"\"\n",
    "reads an excel file and return a dataframe.\n",
    "parameters:\n",
    "desktop/python/p2/excel_data,\n",
    "return:\n",
    "dataframe containing the data\n",
    "\"\"\"\n",
    "import pandas as pd\n",
    "def read_excel_file(desktop/python/p2/neural_data):\n",
    "\"\"\"\n",
    "reads an excel file and return a dataframe.\n",
    "parameters:\n",
    "desktop/python/p2/neural_data,\n",
    "return:\n",
    "dataframe containing the data\n",
    "\"\"\"\n",
    "import pandas as pd\n",
    "def read_excel_file(desktop/python/p2/nested_data):\n",
    "\"\"\"\n",
    "read an excel file and return a dataframe.\n",
    "parameters:\n",
    "desktop/python/p2/nested_data,\n",
    "return:\n",
    "dataframe containing the data\n",
    "\"\"\"\n",
    "import pandas as pd\n",
    "def read_excel_file(desktop/python/p2/network_data):\n",
    "\"\"\"\n",
    "read and excel file and return a dataframe.\n",
    "patameters:\n",
    "desktop/python/p2/network_data,\n",
    "return:\n",
    "dataframe containing the data \n",
    "\"\"\"\n",
    "returns:\n",
    "dataframe containing the data\n",
    "\"\"\"\n",
    "try:\n",
    "df = pd.read_excel(desktop/python/p2/excel_data)\n",
    "return df\n",
    "def get_summary_statistics_(df):\n",
    "\"\"\"\n",
    "returns summary statistics of the dataframe.\n",
    "parametrs:\n",
    "def main():\n",
    "    #path to the excel file\n",
    "    file_path = 'desktop/python/p2/excel_data'\n",
    "    file_path ='desktop/python/p2/neural_data'\n",
    "    file_path = 'desktop/python/p2/nested_data'\n",
    "    file_path ='desktop/python/p2/network_data'\n",
    "    #read data from the excel file\n",
    "df = read_excel_file(desktop/python/p2/excel_data)\n",
    "df = read_excel_file(desktop/python/p2/neural_data)\n",
    "df = read_excel_file(desktop/python/p2/nested_data)\n",
    "df = read_excel_file(desktop/python/p2/network_data)\n",
    "#check if data was read sucessfully\n",
    "if df is not none:\n",
    "    print(\"data from the excel file:\")\n",
    "    print(df)\n",
    "    #get and print summary statistics(df)\n",
    "print(\"\\nsummary statistics:\")\n",
    "print(summary)\n",
    "if_name_==\"_main_\":\n",
    "main()\n"
   ]
  },
  {
   "cell_type": "code",
   "execution_count": null,
   "id": "c10c4ab7-4e80-4302-9eeb-16028f6909db",
   "metadata": {},
   "outputs": [],
   "source": []
  },
  {
   "cell_type": "code",
   "execution_count": null,
   "id": "568b7022-d2e3-4450-803d-3ad670ec8ab0",
   "metadata": {},
   "outputs": [],
   "source": []
  },
  {
   "cell_type": "code",
   "execution_count": null,
   "id": "577259d4-a08d-45dc-88e4-2b6f60a4aa11",
   "metadata": {},
   "outputs": [],
   "source": []
  },
  {
   "cell_type": "code",
   "execution_count": null,
   "id": "24707077-7869-4709-a699-a781fdd80113",
   "metadata": {},
   "outputs": [],
   "source": []
  },
  {
   "cell_type": "code",
   "execution_count": null,
   "id": "2e29d654-9eeb-4353-ae5a-f4913d37ea3d",
   "metadata": {},
   "outputs": [],
   "source": []
  },
  {
   "cell_type": "code",
   "execution_count": null,
   "id": "36232310-95bf-416e-a995-2580ad9608d3",
   "metadata": {},
   "outputs": [],
   "source": []
  },
  {
   "cell_type": "code",
   "execution_count": null,
   "id": "7495faea-40bb-495a-af1a-084cffda6f02",
   "metadata": {},
   "outputs": [],
   "source": []
  },
  {
   "cell_type": "code",
   "execution_count": null,
   "id": "eec05c1d-5b2e-4eb5-b5be-ba088ae70a06",
   "metadata": {},
   "outputs": [],
   "source": []
  },
  {
   "cell_type": "code",
   "execution_count": null,
   "id": "bce0a5ee-a432-4304-af4a-907e07467ccc",
   "metadata": {},
   "outputs": [],
   "source": []
  },
  {
   "cell_type": "code",
   "execution_count": null,
   "id": "51e0c537-2053-4c3b-b994-b6f9cfecd316",
   "metadata": {},
   "outputs": [],
   "source": []
  }
 ],
 "metadata": {
  "kernelspec": {
   "display_name": "Python 3 (ipykernel)",
   "language": "python",
   "name": "python3"
  },
  "language_info": {
   "codemirror_mode": {
    "name": "ipython",
    "version": 3
   },
   "file_extension": ".py",
   "mimetype": "text/x-python",
   "name": "python",
   "nbconvert_exporter": "python",
   "pygments_lexer": "ipython3",
   "version": "3.12.4"
  }
 },
 "nbformat": 4,
 "nbformat_minor": 5
}
